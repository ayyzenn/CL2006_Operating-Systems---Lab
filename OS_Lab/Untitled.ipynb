{
 "cells": [
  {
   "cell_type": "code",
   "execution_count": 6,
   "id": "603c9ada",
   "metadata": {},
   "outputs": [
    {
     "name": "stdout",
     "output_type": "stream",
     "text": [
      "1   2\n",
      "1   3\n",
      "2   2\n",
      "2   3\n",
      "3   2\n",
      "3   3\n"
     ]
    }
   ],
   "source": [
    "ls = [1 , 2, 3 , 5]\n",
    "\n",
    "for i in range(1,4):\n",
    "    for j in range(1,3):\n",
    "        \n",
    "        if i == 2 and ls[j] == 0:\n",
    "            continue\n",
    "        else:\n",
    "            print(i ,\" \", ls[j] )"
   ]
  },
  {
   "cell_type": "code",
   "execution_count": 12,
   "id": "228c8395",
   "metadata": {},
   "outputs": [
    {
     "name": "stdout",
     "output_type": "stream",
     "text": [
      "1   0\n",
      "1   5\n",
      "2   5\n",
      "3   0\n",
      "3   5\n"
     ]
    }
   ],
   "source": [
    "for i in range(1,4):\n",
    "    for j in [0,5]:\n",
    "        \n",
    "        if i == 2 and j == 0:\n",
    "            continue\n",
    "        else:\n",
    "            print(i ,\" \", j )"
   ]
  },
  {
   "cell_type": "code",
   "execution_count": 14,
   "id": "ffcfd272",
   "metadata": {},
   "outputs": [
    {
     "name": "stdout",
     "output_type": "stream",
     "text": [
      "1   0\n",
      "1   5\n",
      "2   5\n",
      "3   0\n",
      "3   5\n"
     ]
    }
   ],
   "source": [
    "for i in range(1,4):\n",
    "    for j in [0,5]:\n",
    "        \n",
    "        if i == 2 and j == 0:\n",
    "            continue\n",
    "        elif i == 4 and j == 1:\n",
    "            print(\"i\" , i)\n",
    "        else:\n",
    "            print(i ,\" \", j )"
   ]
  },
  {
   "cell_type": "code",
   "execution_count": null,
   "id": "f938bb60",
   "metadata": {},
   "outputs": [],
   "source": []
  }
 ],
 "metadata": {
  "kernelspec": {
   "display_name": "Python 3 (ipykernel)",
   "language": "python",
   "name": "python3"
  },
  "language_info": {
   "codemirror_mode": {
    "name": "ipython",
    "version": 3
   },
   "file_extension": ".py",
   "mimetype": "text/x-python",
   "name": "python",
   "nbconvert_exporter": "python",
   "pygments_lexer": "ipython3",
   "version": "3.8.10"
  }
 },
 "nbformat": 4,
 "nbformat_minor": 5
}
